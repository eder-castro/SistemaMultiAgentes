{
  "cells": [
    {
      "cell_type": "markdown",
      "metadata": {
        "id": "view-in-github",
        "colab_type": "text"
      },
      "source": [
        "<a href=\"https://colab.research.google.com/github/eder-castro/SistemaMultiAgentes/blob/main/SistemaMultiAgente.ipynb\" target=\"_parent\"><img src=\"https://colab.research.google.com/assets/colab-badge.svg\" alt=\"Open In Colab\"/></a>"
      ]
    },
    {
      "cell_type": "code",
      "execution_count": 1,
      "metadata": {
        "id": "UCCbECexLk_h"
      },
      "outputs": [],
      "source": [
        "%pip -q install google-genai"
      ]
    },
    {
      "cell_type": "code",
      "execution_count": 2,
      "metadata": {
        "id": "NfCqHo1tLk8P"
      },
      "outputs": [],
      "source": [
        "# Configura a API Key do Google Gemini\n",
        "\n",
        "import os\n",
        "from google.colab import userdata\n",
        "\n",
        "os.environ[\"GOOGLE_API_KEY\"] = userdata.get('GOOGLE_API_KEY')"
      ]
    },
    {
      "cell_type": "code",
      "execution_count": 3,
      "metadata": {
        "id": "bV4w0H5TLk5g"
      },
      "outputs": [],
      "source": [
        "# Configura o cliente da SDK do Gemini\n",
        "\n",
        "from google import genai\n",
        "\n",
        "client = genai.Client()\n",
        "\n",
        "MODEL_ID = \"gemini-2.0-flash\""
      ]
    },
    {
      "cell_type": "code",
      "execution_count": 4,
      "metadata": {
        "colab": {
          "base_uri": "https://localhost:8080/",
          "height": 162
        },
        "id": "HwVP7Xi34Zuw",
        "outputId": "5e6906d0-1877-49ad-a79a-14bc46970ea5"
      },
      "outputs": [
        {
          "output_type": "display_data",
          "data": {
            "text/plain": [
              "<IPython.core.display.Markdown object>"
            ],
            "text/markdown": "Resposta:\n A Alura não tem uma data fixa para a Imersão IA com Google Gemini. A melhor forma de saber quando a próxima edição será realizada é:\n\n*   **Acompanhar as redes sociais da Alura:** Fique de olho nos perfis da Alura no Instagram, LinkedIn, Twitter (X) e Facebook. Eles costumam anunciar os eventos por lá.\n*   **Assinar a newsletter da Alura:** Cadastre seu e-mail no site da Alura para receber novidades sobre cursos, eventos e imersões.\n*   **Verificar a página de eventos da Alura:** Consulte periodicamente a seção de eventos no site da Alura para ver se há alguma Imersão IA com Google Gemini programada.\n\nEsses são os melhores caminhos para você não perder a próxima edição!"
          },
          "metadata": {}
        }
      ],
      "source": [
        "# Pergunta ao Gemini uma informação mais recente que seu conhecimento\n",
        "\n",
        "from IPython.display import HTML, Markdown\n",
        "\n",
        "# Perguntar pro modelo quando é a próxima imersão de IA ###############################################\n",
        "resposta = client.models.generate_content(\n",
        "    model=MODEL_ID,\n",
        "    contents='Quando é a próxima Imersão IA com Google Gemini da Alura?',\n",
        ")\n",
        "\n",
        "# Exibe a resposta na tela\n",
        "display(Markdown(f\"Resposta:\\n {resposta.text}\"))"
      ]
    },
    {
      "cell_type": "code",
      "execution_count": 5,
      "metadata": {
        "colab": {
          "base_uri": "https://localhost:8080/",
          "height": 46
        },
        "id": "yXaZd7iZ4ftw",
        "outputId": "984d51a2-2063-4377-a1d2-070ff4f8f37d"
      },
      "outputs": [
        {
          "output_type": "display_data",
          "data": {
            "text/plain": [
              "<IPython.core.display.Markdown object>"
            ],
            "text/markdown": "Resposta:\n A próxima Imersão IA com Google Gemini da Alura acontecerá entre os dias 12 e 16 de maio de 2025. As inscrições estão abertas até o dia 11 de maio.\n"
          },
          "metadata": {}
        }
      ],
      "source": [
        "# Pergunta ao Gemini uma informação utilizando a busca do Google como contexto\n",
        "\n",
        "response = client.models.generate_content(\n",
        "    model=MODEL_ID,\n",
        "    contents='Quando é a próxima Imersão IA com Google Gemini da Alura?',\n",
        "    # Inserir a tool de busca do Google ###############################################\n",
        "    config={\"tools\": [{\"google_search\": {}}]}\n",
        ")\n",
        "\n",
        "# Exibe a resposta na tela\n",
        "display(Markdown(f\"Resposta:\\n {response.text}\"))"
      ]
    },
    {
      "cell_type": "code",
      "execution_count": 6,
      "metadata": {
        "colab": {
          "base_uri": "https://localhost:8080/",
          "height": 117
        },
        "id": "xHSNlTd84heJ",
        "outputId": "9cefdab0-7b9a-441f-99ef-8ebdfe52f521"
      },
      "outputs": [
        {
          "output_type": "stream",
          "name": "stdout",
          "text": [
            "Busca realizada: ['Alura Imersão IA com Google Gemini']\n",
            "Páginas utilizadas na resposta: alura.com.br, tecmundo.com.br\n",
            "\n"
          ]
        },
        {
          "output_type": "display_data",
          "data": {
            "text/plain": [
              "<IPython.core.display.HTML object>"
            ],
            "text/html": [
              "<style>\n",
              ".container {\n",
              "  align-items: center;\n",
              "  border-radius: 8px;\n",
              "  display: flex;\n",
              "  font-family: Google Sans, Roboto, sans-serif;\n",
              "  font-size: 14px;\n",
              "  line-height: 20px;\n",
              "  padding: 8px 12px;\n",
              "}\n",
              ".chip {\n",
              "  display: inline-block;\n",
              "  border: solid 1px;\n",
              "  border-radius: 16px;\n",
              "  min-width: 14px;\n",
              "  padding: 5px 16px;\n",
              "  text-align: center;\n",
              "  user-select: none;\n",
              "  margin: 0 8px;\n",
              "  -webkit-tap-highlight-color: transparent;\n",
              "}\n",
              ".carousel {\n",
              "  overflow: auto;\n",
              "  scrollbar-width: none;\n",
              "  white-space: nowrap;\n",
              "  margin-right: -12px;\n",
              "}\n",
              ".headline {\n",
              "  display: flex;\n",
              "  margin-right: 4px;\n",
              "}\n",
              ".gradient-container {\n",
              "  position: relative;\n",
              "}\n",
              ".gradient {\n",
              "  position: absolute;\n",
              "  transform: translate(3px, -9px);\n",
              "  height: 36px;\n",
              "  width: 9px;\n",
              "}\n",
              "@media (prefers-color-scheme: light) {\n",
              "  .container {\n",
              "    background-color: #fafafa;\n",
              "    box-shadow: 0 0 0 1px #0000000f;\n",
              "  }\n",
              "  .headline-label {\n",
              "    color: #1f1f1f;\n",
              "  }\n",
              "  .chip {\n",
              "    background-color: #ffffff;\n",
              "    border-color: #d2d2d2;\n",
              "    color: #5e5e5e;\n",
              "    text-decoration: none;\n",
              "  }\n",
              "  .chip:hover {\n",
              "    background-color: #f2f2f2;\n",
              "  }\n",
              "  .chip:focus {\n",
              "    background-color: #f2f2f2;\n",
              "  }\n",
              "  .chip:active {\n",
              "    background-color: #d8d8d8;\n",
              "    border-color: #b6b6b6;\n",
              "  }\n",
              "  .logo-dark {\n",
              "    display: none;\n",
              "  }\n",
              "  .gradient {\n",
              "    background: linear-gradient(90deg, #fafafa 15%, #fafafa00 100%);\n",
              "  }\n",
              "}\n",
              "@media (prefers-color-scheme: dark) {\n",
              "  .container {\n",
              "    background-color: #1f1f1f;\n",
              "    box-shadow: 0 0 0 1px #ffffff26;\n",
              "  }\n",
              "  .headline-label {\n",
              "    color: #fff;\n",
              "  }\n",
              "  .chip {\n",
              "    background-color: #2c2c2c;\n",
              "    border-color: #3c4043;\n",
              "    color: #fff;\n",
              "    text-decoration: none;\n",
              "  }\n",
              "  .chip:hover {\n",
              "    background-color: #353536;\n",
              "  }\n",
              "  .chip:focus {\n",
              "    background-color: #353536;\n",
              "  }\n",
              "  .chip:active {\n",
              "    background-color: #464849;\n",
              "    border-color: #53575b;\n",
              "  }\n",
              "  .logo-light {\n",
              "    display: none;\n",
              "  }\n",
              "  .gradient {\n",
              "    background: linear-gradient(90deg, #1f1f1f 15%, #1f1f1f00 100%);\n",
              "  }\n",
              "}\n",
              "</style>\n",
              "<div class=\"container\">\n",
              "  <div class=\"headline\">\n",
              "    <svg class=\"logo-light\" width=\"18\" height=\"18\" viewBox=\"9 9 35 35\" fill=\"none\" xmlns=\"http://www.w3.org/2000/svg\">\n",
              "      <path fill-rule=\"evenodd\" clip-rule=\"evenodd\" d=\"M42.8622 27.0064C42.8622 25.7839 42.7525 24.6084 42.5487 23.4799H26.3109V30.1568H35.5897C35.1821 32.3041 33.9596 34.1222 32.1258 35.3448V39.6864H37.7213C40.9814 36.677 42.8622 32.2571 42.8622 27.0064V27.0064Z\" fill=\"#4285F4\"/>\n",
              "      <path fill-rule=\"evenodd\" clip-rule=\"evenodd\" d=\"M26.3109 43.8555C30.9659 43.8555 34.8687 42.3195 37.7213 39.6863L32.1258 35.3447C30.5898 36.3792 28.6306 37.0061 26.3109 37.0061C21.8282 37.0061 18.0195 33.9811 16.6559 29.906H10.9194V34.3573C13.7563 39.9841 19.5712 43.8555 26.3109 43.8555V43.8555Z\" fill=\"#34A853\"/>\n",
              "      <path fill-rule=\"evenodd\" clip-rule=\"evenodd\" d=\"M16.6559 29.8904C16.3111 28.8559 16.1074 27.7588 16.1074 26.6146C16.1074 25.4704 16.3111 24.3733 16.6559 23.3388V18.8875H10.9194C9.74388 21.2072 9.06992 23.8247 9.06992 26.6146C9.06992 29.4045 9.74388 32.022 10.9194 34.3417L15.3864 30.8621L16.6559 29.8904V29.8904Z\" fill=\"#FBBC05\"/>\n",
              "      <path fill-rule=\"evenodd\" clip-rule=\"evenodd\" d=\"M26.3109 16.2386C28.85 16.2386 31.107 17.1164 32.9095 18.8091L37.8466 13.8719C34.853 11.082 30.9659 9.3736 26.3109 9.3736C19.5712 9.3736 13.7563 13.245 10.9194 18.8875L16.6559 23.3388C18.0195 19.2636 21.8282 16.2386 26.3109 16.2386V16.2386Z\" fill=\"#EA4335\"/>\n",
              "    </svg>\n",
              "    <svg class=\"logo-dark\" width=\"18\" height=\"18\" viewBox=\"0 0 48 48\" xmlns=\"http://www.w3.org/2000/svg\">\n",
              "      <circle cx=\"24\" cy=\"23\" fill=\"#FFF\" r=\"22\"/>\n",
              "      <path d=\"M33.76 34.26c2.75-2.56 4.49-6.37 4.49-11.26 0-.89-.08-1.84-.29-3H24.01v5.99h8.03c-.4 2.02-1.5 3.56-3.07 4.56v.75l3.91 2.97h.88z\" fill=\"#4285F4\"/>\n",
              "      <path d=\"M15.58 25.77A8.845 8.845 0 0 0 24 31.86c1.92 0 3.62-.46 4.97-1.31l4.79 3.71C31.14 36.7 27.65 38 24 38c-5.93 0-11.01-3.4-13.45-8.36l.17-1.01 4.06-2.85h.8z\" fill=\"#34A853\"/>\n",
              "      <path d=\"M15.59 20.21a8.864 8.864 0 0 0 0 5.58l-5.03 3.86c-.98-2-1.53-4.25-1.53-6.64 0-2.39.55-4.64 1.53-6.64l1-.22 3.81 2.98.22 1.08z\" fill=\"#FBBC05\"/>\n",
              "      <path d=\"M24 14.14c2.11 0 4.02.75 5.52 1.98l4.36-4.36C31.22 9.43 27.81 8 24 8c-5.93 0-11.01 3.4-13.45 8.36l5.03 3.85A8.86 8.86 0 0 1 24 14.14z\" fill=\"#EA4335\"/>\n",
              "    </svg>\n",
              "    <div class=\"gradient-container\"><div class=\"gradient\"></div></div>\n",
              "  </div>\n",
              "  <div class=\"carousel\">\n",
              "    <a class=\"chip\" href=\"https://vertexaisearch.cloud.google.com/grounding-api-redirect/AbF9wXEbLGRZ5l_Njtup60Is7nQyjsZ4hAEnqWp-vN97XKw45_QmJnOm3hRHC-7GaCXXi5hTW51t0NL1q0vc-41vu6eKRBNROZz6mQc0IMyR_McfowBInBzp835QRL8KWKeK5eDEzgMoja29UeVA1B2OsX0-J5Tf3KocQafwDoxah5dhjP9jpsM-04w9dM1ZulBfaS93gaV9in0XoMys390x-9jQIhhbnLwoRXlSeQ==\">Alura Imersão IA com Google Gemini</a>\n",
              "  </div>\n",
              "</div>\n"
            ]
          },
          "metadata": {}
        }
      ],
      "source": [
        "# Exibe a busca\n",
        "print(f\"Busca realizada: {response.candidates[0].grounding_metadata.web_search_queries}\")\n",
        "# Exibe as URLs nas quais ele se baseou\n",
        "print(f\"Páginas utilizadas na resposta: {', '.join([site.web.title for site in response.candidates[0].grounding_metadata.grounding_chunks])}\")\n",
        "print()\n",
        "display(HTML(response.candidates[0].grounding_metadata.search_entry_point.rendered_content))"
      ]
    },
    {
      "cell_type": "code",
      "execution_count": 7,
      "metadata": {
        "colab": {
          "base_uri": "https://localhost:8080/"
        },
        "id": "hvZ3UnPI4jhJ",
        "outputId": "b77ff16f-824a-48dd-e294-1946527a0890"
      },
      "outputs": [
        {
          "output_type": "stream",
          "name": "stdout",
          "text": [
            "\u001b[?25l   \u001b[90m━━━━━━━━━━━━━━━━━━━━━━━━━━━━━━━━━━━━━━━━\u001b[0m \u001b[32m0.0/1.2 MB\u001b[0m \u001b[31m?\u001b[0m eta \u001b[36m-:--:--\u001b[0m\r\u001b[2K   \u001b[91m━━━━━━━━━━━━━━━━━\u001b[0m\u001b[90m╺\u001b[0m\u001b[90m━━━━━━━━━━━━━━━━━━━━━━\u001b[0m \u001b[32m0.5/1.2 MB\u001b[0m \u001b[31m15.6 MB/s\u001b[0m eta \u001b[36m0:00:01\u001b[0m\r\u001b[2K   \u001b[91m━━━━━━━━━━━━━━━━━━━━━━━━━━━━━━━━━━━━━━━\u001b[0m\u001b[91m╸\u001b[0m \u001b[32m1.2/1.2 MB\u001b[0m \u001b[31m21.4 MB/s\u001b[0m eta \u001b[36m0:00:01\u001b[0m\r\u001b[2K   \u001b[90m━━━━━━━━━━━━━━━━━━━━━━━━━━━━━━━━━━━━━━━━\u001b[0m \u001b[32m1.2/1.2 MB\u001b[0m \u001b[31m16.1 MB/s\u001b[0m eta \u001b[36m0:00:00\u001b[0m\n",
            "\u001b[?25h\u001b[?25l   \u001b[90m━━━━━━━━━━━━━━━━━━━━━━━━━━━━━━━━━━━━━━━━\u001b[0m \u001b[32m0.0/232.1 kB\u001b[0m \u001b[31m?\u001b[0m eta \u001b[36m-:--:--\u001b[0m\r\u001b[2K   \u001b[90m━━━━━━━━━━━━━━━━━━━━━━━━━━━━━━━━━━━━━━━━\u001b[0m \u001b[32m232.1/232.1 kB\u001b[0m \u001b[31m15.2 MB/s\u001b[0m eta \u001b[36m0:00:00\u001b[0m\n",
            "\u001b[2K   \u001b[90m━━━━━━━━━━━━━━━━━━━━━━━━━━━━━━━━━━━━━━━━\u001b[0m \u001b[32m95.2/95.2 kB\u001b[0m \u001b[31m7.4 MB/s\u001b[0m eta \u001b[36m0:00:00\u001b[0m\n",
            "\u001b[2K   \u001b[90m━━━━━━━━━━━━━━━━━━━━━━━━━━━━━━━━━━━━━━━━\u001b[0m \u001b[32m217.1/217.1 kB\u001b[0m \u001b[31m14.2 MB/s\u001b[0m eta \u001b[36m0:00:00\u001b[0m\n",
            "\u001b[2K   \u001b[90m━━━━━━━━━━━━━━━━━━━━━━━━━━━━━━━━━━━━━━━━\u001b[0m \u001b[32m334.1/334.1 kB\u001b[0m \u001b[31m20.2 MB/s\u001b[0m eta \u001b[36m0:00:00\u001b[0m\n",
            "\u001b[2K   \u001b[90m━━━━━━━━━━━━━━━━━━━━━━━━━━━━━━━━━━━━━━━━\u001b[0m \u001b[32m125.1/125.1 kB\u001b[0m \u001b[31m8.6 MB/s\u001b[0m eta \u001b[36m0:00:00\u001b[0m\n",
            "\u001b[2K   \u001b[90m━━━━━━━━━━━━━━━━━━━━━━━━━━━━━━━━━━━━━━━━\u001b[0m \u001b[32m65.8/65.8 kB\u001b[0m \u001b[31m4.9 MB/s\u001b[0m eta \u001b[36m0:00:00\u001b[0m\n",
            "\u001b[2K   \u001b[90m━━━━━━━━━━━━━━━━━━━━━━━━━━━━━━━━━━━━━━━━\u001b[0m \u001b[32m119.0/119.0 kB\u001b[0m \u001b[31m8.5 MB/s\u001b[0m eta \u001b[36m0:00:00\u001b[0m\n",
            "\u001b[2K   \u001b[90m━━━━━━━━━━━━━━━━━━━━━━━━━━━━━━━━━━━━━━━━\u001b[0m \u001b[32m194.9/194.9 kB\u001b[0m \u001b[31m10.7 MB/s\u001b[0m eta \u001b[36m0:00:00\u001b[0m\n",
            "\u001b[2K   \u001b[90m━━━━━━━━━━━━━━━━━━━━━━━━━━━━━━━━━━━━━━━━\u001b[0m \u001b[32m62.5/62.5 kB\u001b[0m \u001b[31m4.5 MB/s\u001b[0m eta \u001b[36m0:00:00\u001b[0m\n",
            "\u001b[2K   \u001b[90m━━━━━━━━━━━━━━━━━━━━━━━━━━━━━━━━━━━━━━━━\u001b[0m \u001b[32m103.3/103.3 kB\u001b[0m \u001b[31m6.8 MB/s\u001b[0m eta \u001b[36m0:00:00\u001b[0m\n",
            "\u001b[2K   \u001b[90m━━━━━━━━━━━━━━━━━━━━━━━━━━━━━━━━━━━━━━━━\u001b[0m \u001b[32m44.4/44.4 kB\u001b[0m \u001b[31m3.2 MB/s\u001b[0m eta \u001b[36m0:00:00\u001b[0m\n",
            "\u001b[2K   \u001b[90m━━━━━━━━━━━━━━━━━━━━━━━━━━━━━━━━━━━━━━━━\u001b[0m \u001b[32m72.0/72.0 kB\u001b[0m \u001b[31m4.9 MB/s\u001b[0m eta \u001b[36m0:00:00\u001b[0m\n",
            "\u001b[?25h"
          ]
        }
      ],
      "source": [
        "# Instalar Framework ADK de agentes do Google ################################################\n",
        "!pip install -q google-adk"
      ]
    },
    {
      "cell_type": "code",
      "execution_count": 8,
      "metadata": {
        "id": "aePV2bdfDeoW"
      },
      "outputs": [],
      "source": [
        "from google.adk.agents import Agent\n",
        "from google.adk.runners import Runner\n",
        "from google.adk.sessions import InMemorySessionService\n",
        "from google.adk.tools import google_search\n",
        "from google.genai import types  # Para criar conteúdos (Content e Part)\n",
        "from datetime import date\n",
        "import textwrap # Para formatar melhor a saída de texto\n",
        "from IPython.display import display, Markdown # Para exibir texto formatado no Colab\n",
        "import requests # Para fazer requisições HTTP\n",
        "import warnings\n",
        "\n",
        "warnings.filterwarnings(\"ignore\")"
      ]
    },
    {
      "cell_type": "code",
      "execution_count": 9,
      "metadata": {
        "id": "_xP4lWhsS5ko"
      },
      "outputs": [],
      "source": [
        "# Função auxiliar que envia uma mensagem para um agente via Runner e retorna a resposta final\n",
        "def call_agent(agent: Agent, message_text: str) -> str:\n",
        "    # Cria um serviço de sessão em memória\n",
        "    session_service = InMemorySessionService()\n",
        "    # Cria uma nova sessão (você pode personalizar os IDs conforme necessário)\n",
        "    session = session_service.create_session(app_name=agent.name, user_id=\"user1\", session_id=\"session1\")\n",
        "    # Cria um Runner para o agente\n",
        "    runner = Runner(agent=agent, app_name=agent.name, session_service=session_service)\n",
        "    # Cria o conteúdo da mensagem de entrada\n",
        "    content = types.Content(role=\"user\", parts=[types.Part(text=message_text)])\n",
        "\n",
        "    final_response = \"\"\n",
        "    # Itera assincronamente pelos eventos retornados durante a execução do agente\n",
        "    for event in runner.run(user_id=\"user1\", session_id=\"session1\", new_message=content):\n",
        "        if event.is_final_response():\n",
        "          for part in event.content.parts:\n",
        "            if part.text is not None:\n",
        "              final_response += part.text\n",
        "              final_response += \"\\n\"\n",
        "    return final_response"
      ]
    },
    {
      "cell_type": "code",
      "execution_count": 10,
      "metadata": {
        "id": "8dosiodaxfFR"
      },
      "outputs": [],
      "source": [
        "# Função auxiliar para exibir texto formatado em Markdown no Colab\n",
        "def to_markdown(text):\n",
        "  text = text.replace('•', '  *')\n",
        "  return Markdown(textwrap.indent(text, '> ', predicate=lambda _: True))"
      ]
    },
    {
      "cell_type": "code",
      "execution_count": 31,
      "metadata": {
        "id": "o8bqIfi_DyH8"
      },
      "outputs": [],
      "source": [
        "##########################################\n",
        "# --- Agente 1: Buscador de Notícias --- #\n",
        "##########################################\n",
        "def agente_buscador(topico, data_de_hoje):\n",
        "    buscador = Agent(\n",
        "        name=\"agente_buscador\",\n",
        "        model=\"gemini-2.0-flash\",\n",
        "        description=\"Agente que busca notícias sobre o tópico indicado\",\n",
        "        tools=[google_search],\n",
        "        instruction='''\n",
        "        Você é um agente de pesquisa. Sua tarefa é usar a ferramenta de busca do google (google_search)\n",
        "        para recuperar as últimas notícias de lançamentos muito relevantes sobre o tópico abaixo.\n",
        "        Foque em no máximo 3 notícias relevantes, com base na quantidade e entusiasmo das notícias sobre ele.\n",
        "        Se um tema tiver poucas notícias ou reações entusiasmadas, é possível que ele não seja tão relevante assim,\n",
        "        podendo ser substituído por outro que tenha mais.\n",
        "        Esses lançamentos relevantes devem ser atuais, de no máximo um mês antes da data de hoje.\n",
        "        '''\n",
        "    )\n",
        "    entrada_do_agente_buscador = f\"Tópico: {topico}\\nData de hoje: {data_de_hoje}\"\n",
        "\n",
        "    # Executa o agente\n",
        "    lancamentos_buscados = call_agent(buscador, entrada_do_agente_buscador)\n",
        "    return lancamentos_buscados"
      ]
    },
    {
      "cell_type": "code",
      "execution_count": 32,
      "metadata": {
        "id": "y3VO1uo5_ghO"
      },
      "outputs": [],
      "source": [
        "################################################\n",
        "# --- Agente 2: Planejador de posts --- #\n",
        "################################################\n",
        "def agente_planejador(topico, lancamentos_buscados):\n",
        "    planejador = Agent(\n",
        "        name=\"agente_planejador\",\n",
        "        model=\"gemini-2.0-flash\",\n",
        "        # Inserir as instruções do Agente Planejador #################################################\n",
        "        instruction=\"\"\"\n",
        "        Você é um planejador de conteúdo, especialista em Instagram. Com base na lista de lançamentos\n",
        "         mais recentes e relevantes vindas do buscador, você deve:\n",
        "        Usar a ferramenta de busca do google (google_search) para criar um plano sobre quais são os pontos\n",
        "        mais relevantes que poderíamos abordar em um post sobre cada um deles.\n",
        "        Você também pode usar o (google_search) para encontrar mais informaçõe sobre os temas e aprofundar.\n",
        "        Ao final, você irá escolher o tema mais relevante entre eles com base nas suas pesquisas e retornar\n",
        "        esse tema, seus pontos mais relevantes, e um plano com os assuntos a serem abordados no post que será\n",
        "        criado posteriormente.\n",
        "        \"\"\",\n",
        "        description=\"Agente que planeja posts\",\n",
        "        tools=[google_search]\n",
        "    )\n",
        "\n",
        "    entrada_do_agente_planejador = f\"Tópico:{topico}\\nLançamentos buscados: {lancamentos_buscados}\"\n",
        "    # Executa o agente\n",
        "    plano_do_post = call_agent(planejador, entrada_do_agente_planejador)\n",
        "    return plano_do_post"
      ]
    },
    {
      "cell_type": "code",
      "execution_count": 33,
      "metadata": {
        "id": "uOqlg2TRLVh1"
      },
      "outputs": [],
      "source": [
        "######################################\n",
        "# --- Agente 3: Redator do Post --- #\n",
        "######################################\n",
        "def agente_redator(topico, plano_de_post):\n",
        "    redator = Agent(\n",
        "        name=\"agente_redator\",\n",
        "        model=\"gemini-2.0-flash\",\n",
        "        instruction=\"\"\"\n",
        "            Você é um Redator Criativo especializado em criar posts virais para Instagram.\n",
        "            Você escreve posts para a empresa Alura, a maior escola online de tecnologia do Brasil.\n",
        "            Utilize o tema fornecido no plano de post e os pontos mais relevantes fornecidos e, com base nisso,\n",
        "            escreva um rascunho de post para Instagram sobre o tema indicado.\n",
        "            O post deve ser engajador, informativo, com linguagem simples e incluir 2 a 4 hashtags no final.\n",
        "            \"\"\",\n",
        "        description=\"Agente redator de posts engajadores para Instagram\"\n",
        "    )\n",
        "    entrada_do_agente_redator = f\"Tópico: {topico}\\nPlano de post: {plano_de_post}\"\n",
        "    # Executa o agente\n",
        "    rascunho = call_agent(redator, entrada_do_agente_redator)\n",
        "    return rascunho"
      ]
    },
    {
      "cell_type": "code",
      "execution_count": 34,
      "metadata": {
        "id": "_aTb1SdkLeT6"
      },
      "outputs": [],
      "source": [
        "##########################################\n",
        "# --- Agente 4: Revisor de Qualidade --- #\n",
        "##########################################\n",
        "def agente_revisor(topico, rascunho_gerado):\n",
        "    revisor = Agent(\n",
        "        name=\"agente_revisor\",\n",
        "        model=\"gemini-2.0-flash\",\n",
        "        instruction=\"\"\"\n",
        "            Você é um Editor e Revisor de Conteúdo meticuloso, especializado em posts para Instagram, com foco no Instagram.\n",
        "            Por ter um público jovem, entre 18 e 30 anos, use um tom de escrita adequado.\n",
        "            Revise o rascunho de post de Instagram abaixo sobre o tópico indicado, verificando clareza, concisão, correção e tom.\n",
        "            Se o rascunho estiver bom, responda apenas 'O rascunho está ótimo e pronto para publicar!'.\n",
        "            Caso haja problemas, aponte-os e sugira melhorias.\n",
        "            \"\"\",\n",
        "        description=\"Agente revisor de post para Instagram.\"\n",
        "    )\n",
        "    entrada_do_agente_revisor = f\"Tópico: {topico}\\nRascunho: {rascunho_gerado}\"\n",
        "    # Executa o agente\n",
        "    texto_revisado = call_agent(revisor, entrada_do_agente_revisor)\n",
        "    return texto_revisado"
      ]
    },
    {
      "cell_type": "code",
      "execution_count": 35,
      "metadata": {
        "id": "630ummxz4myx",
        "colab": {
          "base_uri": "https://localhost:8080/",
          "height": 1000
        },
        "outputId": "acebc681-0994-42e4-c728-8a88c6d0a820"
      },
      "outputs": [
        {
          "output_type": "stream",
          "name": "stdout",
          "text": [
            "🚀 Iniciando o Sistema de Criação de Posts para Instagram com 4 Agentes 🚀\n",
            "❓ Por favor, digite o TÓPICO sobre o qual você quer criar o post de tendências: Corinthians\n",
            "Maravilha! Vamos então criar o post sobre novidades em Corinthians\n",
            "\n",
            "--- Resultado do agente 1 (Buscador) ---\n",
            "\n"
          ]
        },
        {
          "output_type": "display_data",
          "data": {
            "text/plain": [
              "<IPython.core.display.Markdown object>"
            ],
            "text/markdown": "> Para fornecer as últimas notícias relevantes sobre o Corinthians, focarei em lançamentos e eventos significativos do último mês (aproximadamente desde 17 de abril de 2025 até hoje).\n> \n> \n> Com base nas notícias recentes sobre o Corinthians, destaco os seguintes pontos relevantes:\n> \n> 1.  **Lançamento da Nova Camisa 2 (2025):** Em 14 de maio de 2025, o Corinthians e a Nike lançaram o novo uniforme número 2 para a temporada, inspirado no título mundial de 2000. O time masculino estreou a camisa em jogo contra o Racing em 15 de maio, enquanto o time feminino a vestirá em 17 de maio.\n> \n> 2.  **Superávit Financeiro:** O Corinthians registrou um superávit de R$ 12,1 milhões no primeiro bimestre de 2025, com a maior arrecadação vindo de direitos de transmissão e patrocínios. No entanto, o Conselho de Orientação do clube informou que os balancetes divulgados não passaram por auditoria externa.\n> \n> 3.  **Contratações na Base:** O Corinthians continua ativo nas contratações para as categorias de base, registrando um grande número de aquisições na gestão de Augusto Melo.\n> \n> \n"
          },
          "metadata": {}
        },
        {
          "output_type": "stream",
          "name": "stdout",
          "text": [
            "------------------------------------------------\n",
            "\n",
            "--- Resultado do agente 2 (Planejador) ---\n",
            "\n"
          ]
        },
        {
          "output_type": "display_data",
          "data": {
            "text/plain": [
              "<IPython.core.display.Markdown object>"
            ],
            "text/markdown": "> Okay, com base nos lançamentos e eventos recentes sobre o Corinthians, vou usar a ferramenta de busca do Google para aprofundar as informações e criar um plano de conteúdo para um post no Instagram sobre o tema mais relevante.\n> \n> \n> Após analisar as informações e os resultados da pesquisa, considero que o tema mais relevante para um post no Instagram sobre o Corinthians, no momento, é o **Lançamento da Nova Camisa 2 (2025)**.\n> \n> **Justificativa:**\n> \n> *   **Apelo Visual e Atualidade:** O lançamento de uma nova camisa é um evento que gera grande interesse entre os torcedores, especialmente quando há um design diferenciado ou uma homenagem envolvida. A nova camisa 2 do Corinthians tem um apelo visual forte, remetendo ao título mundial de 2000, o que a torna ainda mais atraente.\n> *   **Engajamento:** Posts sobre lançamentos de produtos costumam gerar bastante engajamento, com comentários, curtidas e compartilhamentos.\n> *   **Informação e História:** O post pode combinar informações sobre o design da camisa, os detalhes que remetem ao título mundial de 2000 e a história por trás dessa conquista.\n> \n> **Pontos Relevantes a serem Abordados no Post:**\n> \n> 1.  **Design da Camisa:**\n>     *   Cor predominante preta com detalhes em branco nas mangas e faixas laterais.\n>     *   Escudo e logo da Nike centralizados no peito, remetendo à camisa de 2000.\n>     *   Ausência da borda branca no escudo, um pedido antigo da torcida.\n>     *   Gola careca com padrão listrado na nuca.\n>     *   Frase \"Todo Poderoso Timão\" na parte interna, em referência ao canto da torcida.\n>     *   Número 8 estilizado na fonte dos números, em homenagem ao capitão da final do mundial de 2000.\n> 2.  **Homenagem ao Título Mundial de 2000:**\n>     *   A importância do título mundial de 2000 na história do Corinthians.\n>     *   O impacto da conquista na identidade do clube e na torcida.\n>     *   O legado daquele time e a memória dos jogadores que fizeram história.\n> 3.  **Estreia da Camisa:**\n>     *   O time masculino estreou a camisa contra o Racing em 15 de maio de 2025.\n>     *   O time feminino a vestirá em 17 de maio de 2025.\n> 4.  **Disponibilidade e Preços:**\n>     *   A camisa está disponível nas lojas Nike, ShopTimão e Centauro.\n>     *   Preço da versão jogador: R$ 699,99.\n>     *   Preço da versão torcedor: R$ 349,99.\n> \n> **Plano de Conteúdo para o Post:**\n> \n> *   **Título:** Nova Camisa 2 do Corinthians: Uma Homenagem ao Mundial de 2000! 🖤\n> *   **Imagem/Vídeo:**\n>     *   Foto da nova camisa em detalhes (frente, costas, detalhes do escudo, gola, etc.).\n>     *   Vídeo curto mostrando a camisa em movimento, com destaque para os detalhes.\n>     *   Foto/vídeo da torcida vestindo a camisa.\n>     *   Foto do time usando a camisa em jogo.\n> *   **Texto:**\n>     *   Começar com uma chamada atrativa sobre o lançamento da nova camisa.\n>     *   Apresentar os detalhes do design e as referências ao título mundial de 2000.\n>     *   Contar um pouco da história do título mundial e sua importância para o clube.\n>     *   Informar sobre a estreia da camisa pelos times masculino e feminino.\n>     *   Incluir informações sobre disponibilidade e preços.\n>     *   Usar hashtags relevantes: #Corinthians #NovaCamisa #Timão #Mundial2000 #Nike #FielTorcida\n> *   **Call to Action:**\n>     *   Perguntar aos seguidores o que acharam da nova camisa.\n>     *   Incentivar os torcedores a comprarem a camisa e mostrarem seu apoio ao time.\n>     *   Convidar os seguidores a compartilharem suas memórias sobre o título mundial de 2000.\n> \n> **Sugestões Adicionais:**\n> \n> *   Criar um carrossel com várias fotos e vídeos da camisa.\n> *   Fazer stories com enquetes e perguntas sobre a camisa e o título mundial.\n> *   Marcar a Nike e o Corinthians nas publicações.\n> *   Interagir com os comentários e mensagens dos seguidores.\n> \n> Este plano de conteúdo visa criar um post informativo, visualmente atraente e que gere engajamento com a torcida corintiana, aproveitando o lançamento da nova camisa 2 e a forte ligação emocional com o título mundial de 2000.\n> \n"
          },
          "metadata": {}
        },
        {
          "output_type": "stream",
          "name": "stdout",
          "text": [
            "------------------------------------------------\n",
            "\n",
            "--- Resultado do agente 3 (Redator) ---\n",
            "\n"
          ]
        },
        {
          "output_type": "display_data",
          "data": {
            "text/plain": [
              "<IPython.core.display.Markdown object>"
            ],
            "text/markdown": "> 🎉⚫️⚪️ SAIU A NOVA CAMISA 2 DO TIMÃO! ⚫️⚪️🎉\n> \n> Diretamente do túnel do tempo para o futuro! 🚀 A nova camisa do Corinthians é uma homenagem ÉPICA ao título mundial de 2000! 🏆\n> \n> 🖤 Design INOVADOR:\n> ⚫️ Predominantemente preta, com detalhes em branco que dão um toque clássico.\n> 🛡️ Escudo e logo da Nike centralizados, igual àquela camisa que nos deu o mundo!\n> 🔥 Sem a borda branca no escudo: um pedido ATENDIDO da Fiel!\n> ✨ Gola careca com padrão listrado que é puro estilo.\n> 🤫 E tem mais: a frase \"Todo Poderoso Timão\" escondida na parte interna. Arrepiante!\n> ⚽️ O número 8 estilizado é uma homenagem ao nosso eterno capitão da final de 2000.\n> \n> 🗓️ ESTREIA:\n> 👨‍👨‍👧‍👦 O time masculino já estreou contra o Racing em 15 de maio de 2025.\n> 👩‍👩‍👧‍👦 O time feminino vestirá no dia 17 de maio de 2025.\n> \n> 💰 PREÇOS E ONDE ENCONTRAR:\n> 🛒 Disponível nas lojas Nike, ShopTimão e Centauro.\n> 💸 Versão jogador: R$ 699,99\n> 👕 Versão torcedor: R$ 349,99\n> \n> E aí, Fiel? O que acharam dessa belezura? 😍 Corre pra garantir a sua e mostrar o orgulho de ser CORINTHIANS! 🖤⚪️\n> \n> #Corinthians #NovaCamisa #VaiCorinthians #Mundial2000\n> \n"
          },
          "metadata": {}
        },
        {
          "output_type": "stream",
          "name": "stdout",
          "text": [
            "------------------------------------------------\n",
            "\n",
            "--- Resultado do agente 4 (Revisor) ---\n",
            "\n"
          ]
        },
        {
          "output_type": "display_data",
          "data": {
            "text/plain": [
              "<IPython.core.display.Markdown object>"
            ],
            "text/markdown": "> O rascunho está quase perfeito, mas podemos fazer alguns ajustes para deixá-lo ainda mais engajador e informativo para a Fiel:\n> \n> **Problemas e Sugestões:**\n> \n> *   **Data da Estreia:** As datas de estreia (15 e 17 de maio de 2025) indicam que o post está situado no futuro. Isso pode causar confusão. Sugiro verificar se as datas estão corretas ou ajustar a redação para o tempo presente.\n> *   **Tom:** O texto já está bom, mas podemos adicionar mais \"Corinthianismo\". Use mais gírias e expressões que a Fiel usa.\n> *   **Chamada para Ação:** Podemos criar mais desejo na Fiel para que ela compre a camisa.\n> \n> **Sugestão de Melhorias:**\n> \n> 🎉⚫️⚪️ A NOVA ARMADURA DO TIMÃO CHEGOU! ⚫️⚪️🎉\n> \n> Diretamente do túnel do tempo para o futuro! 🚀 A nova camisa do Corinthians é uma homenagem ÉPICA ao título mundial de 2000! Aquele título que fez a gente ZUAR TODO MUNDO! 🏆\n> \n> 🖤 Design que FAZ CHORAR DE EMOÇÃO:\n> ⚫️ Predominantemente preta, com detalhes em branco que dão um toque clássico.\n> 🛡️ Escudo e logo da Nike centralizados, igual àquela camisa que nos deu o mundo!\n> 🔥 Sem a borda branca no escudo: UM PEDIDO DA FIEL É UMA ORDEM!\n> ✨ Gola careca com padrão listrado que é puro estilo.\n> 🤫 E tem mais: a frase \"Todo Poderoso Timão\" escondida na parte interna. ARREPIANTE!\n> ⚽️ O número 8 estilizado é uma homenagem ao nosso eterno capitão da final de 2000. ÍDOLO!\n> \n> 🗓️ ESTREIA:\n> 👨‍👨‍👧‍👦 O time masculino já ESTREOU contra o Racing.\n> 👩‍👩‍👧‍👦 O time feminino também já ENTROU EM CAMPO com o novo manto.\n> \n> 💰 PREÇOS E ONDE ENCONTRAR:\n> 🛒 Disponível nas lojas Nike, ShopTimão e Centauro.\n> 💸 Versão jogador: R$ 699,99 (Para você se sentir como um craque!)\n> 👕 Versão torcedor: R$ 349,99 (Para mostrar sua paixão em qualquer lugar!)\n> \n> E aí, Fiel? Babaram nessa belezura? 😍 Corre pra garantir a sua e mostrar o orgulho de ser CORINTHIANS! VAI CORINTHIANS! 🖤⚪️\n> \n> #Corinthians #NovaCamisa #VaiCorinthians #Mundial2000 #Timão #FielTorcedor\n> \n"
          },
          "metadata": {}
        },
        {
          "output_type": "stream",
          "name": "stdout",
          "text": [
            "------------------------------------------------\n"
          ]
        }
      ],
      "source": [
        "data_de_hoje = date.today().strftime(\"%d/%m/%Y\")\n",
        "\n",
        "print(\"🚀 Iniciando o Sistema de Criação de Posts para Instagram com 4 Agentes 🚀\")\n",
        "\n",
        "# --- Obter o Tópico do Usuário ---\n",
        "topico = input(\"❓ Por favor, digite o TÓPICO sobre o qual você quer criar o post de tendências: \")\n",
        "\n",
        "# Inserir lógica do sistema de agentes ################################################\n",
        "\n",
        "if not topico:\n",
        "  print(\"Você esqueceu de informar um tópico!\")\n",
        "else:\n",
        "  print(f\"Maravilha! Vamos então criar o post sobre novidades em {topico}\")\n",
        "\n",
        "  lancamentos_buscados = agente_buscador(topico, data_de_hoje)\n",
        "  print(\"\\n--- Resultado do agente 1 (Buscador) ---\\n\")\n",
        "  display(to_markdown(lancamentos_buscados))\n",
        "  print(\"------------------------------------------------\")\n",
        "\n",
        "  plano_de_post = agente_planejador(topico, lancamentos_buscados)\n",
        "  print(\"\\n--- Resultado do agente 2 (Planejador) ---\\n\")\n",
        "  display(to_markdown(plano_de_post))\n",
        "  print(\"------------------------------------------------\")\n",
        "\n",
        "  rascunho_de_post = agente_redator(topico, plano_de_post)\n",
        "  print(\"\\n--- Resultado do agente 3 (Redator) ---\\n\")\n",
        "  display(to_markdown(rascunho_de_post))\n",
        "  print(\"------------------------------------------------\")\n",
        "\n",
        "  post_final = agente_revisor(topico, rascunho_de_post)\n",
        "  print(\"\\n--- Resultado do agente 4 (Revisor) ---\\n\")\n",
        "  display(to_markdown(post_final))\n",
        "  print(\"------------------------------------------------\")"
      ]
    }
  ],
  "metadata": {
    "colab": {
      "provenance": [],
      "include_colab_link": true
    },
    "kernelspec": {
      "display_name": "Python 3",
      "name": "python3"
    },
    "language_info": {
      "name": "python"
    }
  },
  "nbformat": 4,
  "nbformat_minor": 0
}